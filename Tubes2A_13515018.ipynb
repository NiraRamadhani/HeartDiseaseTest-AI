{
 "cells": [
  {
   "cell_type": "markdown",
   "metadata": {},
   "source": [
    "## Tugas Besar II IF3170 Inteligensi Buatan\n",
    "## Heart Disease Classification"
   ]
  },
  {
   "cell_type": "markdown",
   "metadata": {},
   "source": [
    "Kelompok 18:\n",
    "- Nira Rizki Ramadhani / 13516018\n",
    "- Sinaga Yoko Christoffel / 13516052\n",
    "- Haifa Fadhila Ilma / 13516076\n",
    "- Nadija Herdwina Putri Soerojo / 13516130\n",
    "- Muhammad Fadhriga Bestari / 13516154"
   ]
  },
  {
   "cell_type": "code",
   "execution_count": 1,
   "metadata": {},
   "outputs": [],
   "source": [
    "import pandas as pd\n",
    "import numpy as np\n",
    "import graphviz\n",
    "import pickle\n",
    "import matplotlib.pyplot as plt\n",
    "from matplotlib.colors import ListedColormap\n",
    "import itertools\n",
    "import random\n",
    "\n",
    "from sklearn.datasets import load_iris \n",
    "from sklearn.model_selection import train_test_split, KFold\n",
    "from sklearn.naive_bayes import GaussianNB\n",
    "from sklearn.tree import DecisionTreeClassifier, export_graphviz\n",
    "from sklearn.neighbors import KNeighborsClassifier\n",
    "from sklearn.neural_network import MLPClassifier \n",
    "from sklearn.metrics import accuracy_score, precision_score, recall_score, confusion_matrix\n",
    "from sklearn import neighbors, datasets"
   ]
  },
  {
   "cell_type": "markdown",
   "metadata": {},
   "source": [
    "#### Membaca Dataset Heart Disease"
   ]
  },
  {
   "cell_type": "code",
   "execution_count": 94,
   "metadata": {},
   "outputs": [],
   "source": [
    "train_data = pd.read_csv('tubes2_HeartDisease_train.csv')"
   ]
  },
  {
   "cell_type": "markdown",
   "metadata": {},
   "source": [
    "#### Replace Missing Values"
   ]
  },
  {
   "cell_type": "code",
   "execution_count": 102,
   "metadata": {},
   "outputs": [],
   "source": [
    "# Replace all missing values to None\n",
    "train_data.replace({'?' : None, 'None' : None}, inplace=True)\n",
    "\n",
    "# Replace missing values per column\n",
    "train_data['Column4'].fillna(value = train_data1['Column4'].median(),inplace=True)\n",
    "train_data['Column5'].fillna(value = train_data1['Column5'].median(),inplace=True)\n",
    "train_data['Column6'].fillna(value = train_data1['Column6'].mode()[0],inplace=True)\n",
    "train_data['Column7'].fillna(value = train_data1['Column7'].mode()[0],inplace=True)\n",
    "train_data['Column8'].fillna(value = train_data1['Column8'].median(),inplace=True)\n",
    "train_data['Column9'].fillna(value = train_data1['Column9'].mode()[0],inplace=True)\n",
    "train_data['Column10'].fillna(value = train_data1['Column10'].median(),inplace=True)\n",
    "train_data['Column11'].fillna(value = train_data1['Column11'].mode()[0],inplace=True)\n",
    "train_data['Column12'].fillna(value = train_data1['Column12'].mode()[0],inplace=True)\n",
    "train_data['Column13'].fillna(value = train_data1['Column13'].mode()[0],inplace=True)\n",
    "\n",
    "train_data\n",
    "train_data_X = train_data.drop([\"Column14\"], axis=1)\n",
    "train_data_y = train_data[\"Column14\"]"
   ]
  },
  {
   "cell_type": "code",
   "execution_count": 47,
   "metadata": {},
   "outputs": [],
   "source": [
    "# train_data_X"
   ]
  },
  {
   "cell_type": "code",
   "execution_count": 48,
   "metadata": {},
   "outputs": [],
   "source": [
    "# train_data_y"
   ]
  },
  {
   "cell_type": "code",
   "execution_count": null,
   "metadata": {},
   "outputs": [],
   "source": []
  }
 ],
 "metadata": {
  "kernelspec": {
   "display_name": "Python 2",
   "language": "python",
   "name": "python2"
  },
  "language_info": {
   "codemirror_mode": {
    "name": "ipython",
    "version": 2
   },
   "file_extension": ".py",
   "mimetype": "text/x-python",
   "name": "python",
   "nbconvert_exporter": "python",
   "pygments_lexer": "ipython2",
   "version": "2.7.14"
  }
 },
 "nbformat": 4,
 "nbformat_minor": 2
}
